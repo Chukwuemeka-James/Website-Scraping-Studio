{
 "cells": [
  {
   "cell_type": "code",
   "execution_count": 1,
   "metadata": {},
   "outputs": [],
   "source": [
    "from bs4 import BeautifulSoup\n",
    "import requests\n",
    "import time"
   ]
  },
  {
   "cell_type": "code",
   "execution_count": null,
   "metadata": {},
   "outputs": [],
   "source": [
    "html_text = requests.get(\"urlxxxxx\")\n",
    "soup = BeautifulSoup(html_text, \"lxml\")\n",
    "jobs = soup.find_all('lo', class_ = 'put the class name here')\n",
    "print(jobs)"
   ]
  },
  {
   "cell_type": "markdown",
   "metadata": {},
   "source": [
    "### Let's consider one job"
   ]
  },
  {
   "cell_type": "code",
   "execution_count": null,
   "metadata": {},
   "outputs": [],
   "source": [
    "html_text = requests.get(\"urlxxxxx\")\n",
    "soup = BeautifulSoup(html_text, \"lxml\")\n",
    "job = soup.find('lo', class_ = 'put the class name here')\n",
    "print(job)"
   ]
  },
  {
   "cell_type": "code",
   "execution_count": null,
   "metadata": {},
   "outputs": [],
   "source": [
    "html_text = requests.get(\"urlxxxxx\")\n",
    "soup = BeautifulSoup(html_text, \"lxml\")\n",
    "job = soup.find('lo', class_ = 'put the class name here')\n",
    "company_name = job.find('h3', class_ = 'put the class name')\n",
    "print(company_name)"
   ]
  },
  {
   "cell_type": "markdown",
   "metadata": {},
   "source": [
    "# To replace the spaces in the output let's take the following step."
   ]
  },
  {
   "cell_type": "code",
   "execution_count": null,
   "metadata": {},
   "outputs": [],
   "source": [
    "html_text = requests.get(\"urlxxxxx\")\n",
    "soup = BeautifulSoup(html_text, \"lxml\")\n",
    "job = soup.find('lo', class_ = 'put the class name here')\n",
    "company_name = job.find('h3', class_ = 'put the class name').text.replace(' ', '')\n",
    "print(company_name)"
   ]
  },
  {
   "cell_type": "markdown",
   "metadata": {},
   "source": [
    "### Let's get the skills required for the job"
   ]
  },
  {
   "cell_type": "code",
   "execution_count": null,
   "metadata": {},
   "outputs": [],
   "source": [
    "html_text = requests.get(\"urlxxxxx\")\n",
    "soup = BeautifulSoup(html_text, \"lxml\")\n",
    "job = soup.find('lo', class_ = 'put the class name here')\n",
    "company_name = job.find('h3', class_ = 'put the class name').text.replace(' ', '')\n",
    "skills = job.find('span', class_ = 'name of the class').text.replace(' ', '')\n",
    "print(skills)"
   ]
  },
  {
   "cell_type": "code",
   "execution_count": null,
   "metadata": {},
   "outputs": [],
   "source": [
    "print(f'''\n",
    "Company Name: {company_name}\n",
    "Required Skills: {skills}\n",
    "''')"
   ]
  },
  {
   "cell_type": "markdown",
   "metadata": {},
   "source": [
    "### Let's now get the job publication date"
   ]
  },
  {
   "cell_type": "code",
   "execution_count": null,
   "metadata": {},
   "outputs": [],
   "source": [
    "html_text = requests.get(\"urlxxxxx\")\n",
    "soup = BeautifulSoup(html_text, \"lxml\")\n",
    "job = soup.find('lo', class_ = 'put the class name here')\n",
    "company_name = job.find('h3', class_ = 'put the class name').text.replace(' ', '')\n",
    "skills = job.find('span', class_ = 'name of the class').text.replace(' ', '')\n",
    "published_date = job.find('span', class_ = 'the name of the class').span.text\n",
    "print(published_date)"
   ]
  },
  {
   "cell_type": "markdown",
   "metadata": {},
   "source": [
    "### We can see that more work needs to be done. So dive deeper."
   ]
  },
  {
   "cell_type": "code",
   "execution_count": null,
   "metadata": {},
   "outputs": [],
   "source": [
    "html_text = requests.get(\"urlxxxxx\")\n",
    "soup = BeautifulSoup(html_text, \"lxml\")\n",
    "jobs = soup.find_all('lo', class_ = 'put the class name here')\n",
    "for job in jobs:\n",
    "    company_name = job.find('h3', class_ = 'put the class name').text.replace(' ', '')\n",
    "    skills = job.find('span', class_ = 'name of the class').text.replace(' ', '')\n",
    "    published_date = job.find('span', class_ = 'the name of the class').span.text\n",
    "    print(f'''\n",
    "    Company Name: {company_name}\n",
    "    Required Skills: {skills}\n",
    "    ''')\n",
    "\n",
    "    print('') # Just to add space\n"
   ]
  },
  {
   "cell_type": "markdown",
   "metadata": {},
   "source": [
    "### Now let's get only the jobs that say \"Poated few days ago\""
   ]
  },
  {
   "cell_type": "code",
   "execution_count": null,
   "metadata": {},
   "outputs": [],
   "source": [
    "html_text = requests.get(\"urlxxxxx\")\n",
    "soup = BeautifulSoup(html_text, \"lxml\")\n",
    "jobs = soup.find_all('lo', class_ = 'put the class name here')\n",
    "for job in jobs:\n",
    "    published_date = job.find('span', class_ = 'the name of the class').span.text\n",
    "    if 'few' in published_date:\n",
    "        company_name = job.find('h3', class_ = 'put the class name').text.replace(' ', '')\n",
    "        skills = job.find('span', class_ = 'name of the class').text.replace(' ', '')\n",
    "        print(f'''\n",
    "        Company Name: {company_name}\n",
    "        Required Skills: {skills}\n",
    "        ''')\n",
    "\n",
    "        print('') # Just to add space\n"
   ]
  },
  {
   "cell_type": "markdown",
   "metadata": {},
   "source": [
    "### Let's optimize the output a little more"
   ]
  },
  {
   "cell_type": "code",
   "execution_count": null,
   "metadata": {},
   "outputs": [],
   "source": [
    "html_text = requests.get(\"urlxxxxx\")\n",
    "soup = BeautifulSoup(html_text, \"lxml\")\n",
    "jobs = soup.find_all('lo', class_ = 'put the class name here')\n",
    "for job in jobs:\n",
    "    published_date = job.find('span', class_ = 'the name of the class').span.text\n",
    "    if 'few' in published_date:\n",
    "        company_name = job.find('h3', class_ = 'put the class name').text.replace(' ', '')\n",
    "        skills = job.find('span', class_ = 'name of the class').text.replace(' ', '')\n",
    "        print(f'Company Name: {company_name.strip()}')\n",
    "        print(f'Required Skills: {skills.strip()}')\n",
    "\n",
    "        print('') # Just to add space\n"
   ]
  },
  {
   "cell_type": "markdown",
   "metadata": {},
   "source": [
    "### let's see if we can get the job liink"
   ]
  },
  {
   "cell_type": "code",
   "execution_count": null,
   "metadata": {},
   "outputs": [],
   "source": [
    "html_text = requests.get(\"urlxxxxx\")\n",
    "soup = BeautifulSoup(html_text, \"lxml\")\n",
    "jobs = soup.find_all('lo', class_ = 'put the class name here')\n",
    "for job in jobs:\n",
    "    published_date = job.find('span', class_ = 'the name of the class').span.text\n",
    "    if 'few' in published_date:\n",
    "        company_name = job.find('h3', class_ = 'put the class name').text.replace(' ', '')\n",
    "        skills = job.find('span', class_ = 'name of the class').text.replace(' ', '')\n",
    "        more_info = job.header.h2.a\n",
    "        print(f'Company Name: {company_name.strip()}')\n",
    "        print(f'Required Skills: {skills.strip()}')\n",
    "        print(f'More info: {more_info}')\n",
    "\n",
    "        print('') # Just to add space\n"
   ]
  },
  {
   "cell_type": "markdown",
   "metadata": {},
   "source": [
    "### Let's extract the link from the 'href' attribute"
   ]
  },
  {
   "cell_type": "code",
   "execution_count": null,
   "metadata": {},
   "outputs": [],
   "source": [
    "html_text = requests.get(\"urlxxxxx\")\n",
    "soup = BeautifulSoup(html_text, \"lxml\")\n",
    "jobs = soup.find_all('lo', class_ = 'put the class name here')\n",
    "for job in jobs:\n",
    "    published_date = job.find('span', class_ = 'the name of the class').span.text\n",
    "    if 'few' in published_date:\n",
    "        company_name = job.find('h3', class_ = 'put the class name').text.replace(' ', '')\n",
    "        skills = job.find('span', class_ = 'name of the class').text.replace(' ', '')\n",
    "        more_info = job.header.h2.a['href']\n",
    "        print(f'Company Name: {company_name.strip()}')\n",
    "        print(f'Required Skills: {skills.strip()}')\n",
    "        print(f'More info: {more_info}')\n",
    "\n",
    "        print('') # Just to add space\n"
   ]
  },
  {
   "cell_type": "markdown",
   "metadata": {},
   "source": [
    "### Let's extract the skills which the job requires but are not within our skill set"
   ]
  },
  {
   "cell_type": "code",
   "execution_count": null,
   "metadata": {},
   "outputs": [],
   "source": [
    "print('Put the skill that you are unfamilier with')\n",
    "unfamiliar_skills = input('>')\n",
    "print(f'Filtering out {unfamiliar_skills}')\n",
    "\n",
    "html_text = requests.get(\"urlxxxxx\")\n",
    "soup = BeautifulSoup(html_text, \"lxml\")\n",
    "jobs = soup.find_all('lo', class_ = 'put the class name here')\n",
    "for job in jobs:\n",
    "    published_date = job.find('span', class_ = 'the name of the class').span.text\n",
    "    if 'few' in published_date:\n",
    "        company_name = job.find('h3', class_ = 'put the class name').text.replace(' ', '')\n",
    "        skills = job.find('span', class_ = 'name of the class').text.replace(' ', '')\n",
    "        more_info = job.header.h2.a['href']\n",
    "        if unfamiliar_skills not in skills:    \n",
    "            print(f'Company Name: {company_name.strip()}')\n",
    "            print(f'Required Skills: {skills.strip()}')\n",
    "            print(f'More info: {more_info}')\n",
    "\n",
    "            print('') # Just to add space\n"
   ]
  },
  {
   "cell_type": "code",
   "execution_count": null,
   "metadata": {},
   "outputs": [],
   "source": [
    "from bs4 import BeautifulSoup\n",
    "import requests\n",
    "import time\n",
    "\n",
    "print('Put the skill that you are unfamilier with')\n",
    "unfamiliar_skills = input('>')\n",
    "print(f'Filtering out {unfamiliar_skills}')\n",
    "\n",
    "def find_jobs():\n",
    "    html_text = requests.get(\"urlxxxxx\")\n",
    "    soup = BeautifulSoup(html_text, \"lxml\")\n",
    "    jobs = soup.find_all('lo', class_ = 'put the class name here')\n",
    "    for job in jobs:\n",
    "        published_date = job.find('span', class_ = 'the name of the class').span.text\n",
    "        if 'few' in published_date:\n",
    "            company_name = job.find('h3', class_ = 'put the class name').text.replace(' ', '')\n",
    "            skills = job.find('span', class_ = 'name of the class').text.replace(' ', '')\n",
    "            more_info = job.header.h2.a['href']\n",
    "            if unfamiliar_skills not in skills:    \n",
    "                print(f'Company Name: {company_name.strip()}')\n",
    "                print(f'Required Skills: {skills.strip()}')\n",
    "                print(f'More info: {more_info}')\n",
    "\n",
    "                print('') # Just to add space\n",
    "\n",
    "if __name__ == '__main__':\n",
    "    while True:\n",
    "        find_jobs\n",
    "        time_wait = 10\n",
    "        print(f'Waiting {time_wait} minutes...')\n",
    "        time.sleep(time_wait * 60)  # Every 10 mins"
   ]
  },
  {
   "cell_type": "markdown",
   "metadata": {},
   "source": [
    "### Let's add the code that will aloow us save the  output."
   ]
  },
  {
   "cell_type": "code",
   "execution_count": null,
   "metadata": {},
   "outputs": [],
   "source": [
    "from bs4 import BeautifulSoup\n",
    "import requests\n",
    "import time\n",
    "\n",
    "print('Put the skill that you are unfamilier with')\n",
    "unfamiliar_skills = input('>')\n",
    "print(f'Filtering out {unfamiliar_skills}')\n",
    "\n",
    "def find_jobs():\n",
    "    html_text = requests.get(\"urlxxxxx\")\n",
    "    soup = BeautifulSoup(html_text, \"lxml\")\n",
    "    jobs = soup.find_all('lo', class_ = 'put the class name here')\n",
    "    for index, job in enumerate(jobs):\n",
    "        published_date = job.find('span', class_ = 'the name of the class').span.text\n",
    "        if 'few' in published_date:\n",
    "            company_name = job.find('h3', class_ = 'put the class name').text.replace(' ', '')\n",
    "            skills = job.find('span', class_ = 'name of the class').text.replace(' ', '')\n",
    "            more_info = job.header.h2.a['href']\n",
    "            if unfamiliar_skills not in skills:\n",
    "                with open(f'post/{index}.txt', 'w') as f: \n",
    "                    f.write(f'Company Name: {company_name.strip()}\\n')\n",
    "                    f.write(f'Required Skills: {skills.strip()}\\n')\n",
    "                    f.write(f'More info: {more_info}')\n",
    "                print(f'File saved: {index}')\n",
    "\n",
    "if __name__ == '__main__':\n",
    "    while True:\n",
    "        find_jobs\n",
    "        time_wait = 10\n",
    "        print(f'Waiting {time_wait} minutes...')\n",
    "        time.sleep(time_wait * 60)  # Every 10 mins"
   ]
  },
  {
   "cell_type": "code",
   "execution_count": null,
   "metadata": {},
   "outputs": [],
   "source": []
  }
 ],
 "metadata": {
  "kernelspec": {
   "display_name": "TF_PT_Rec_System",
   "language": "python",
   "name": "python3"
  },
  "language_info": {
   "codemirror_mode": {
    "name": "ipython",
    "version": 3
   },
   "file_extension": ".py",
   "mimetype": "text/x-python",
   "name": "python",
   "nbconvert_exporter": "python",
   "pygments_lexer": "ipython3",
   "version": "3.9.21"
  }
 },
 "nbformat": 4,
 "nbformat_minor": 2
}
